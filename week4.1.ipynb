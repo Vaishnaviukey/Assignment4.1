{
 "cells": [
  {
   "cell_type": "markdown",
   "id": "f55ad9fa-fe9d-440f-9689-6764c7112262",
   "metadata": {},
   "source": [
    "## Q1, Create a vehicle class with an init method having instance variables as name_of_vehicle, max_speed and average_of_vehicle."
   ]
  },
  {
   "cell_type": "code",
   "execution_count": 1,
   "id": "243d07af-a7e9-41b7-b178-e79fb69f51ab",
   "metadata": {},
   "outputs": [],
   "source": [
    "class vehicle:\n",
    "    def __init__(self, name_of_vehicle , max_speed, average_of_vehicle):\n",
    "        self.name_of_vehicle = name_of_vehicle\n",
    "        self.max_speed = max_speed\n",
    "        self.average_of_vehicle  = average_of_vehicle\n",
    "    def return_vehicle(self):\n",
    "        return self.average_of_vehicle , self.max_speed, self.name_of_vehicle"
   ]
  },
  {
   "cell_type": "code",
   "execution_count": 2,
   "id": "117efdad-31f7-4ad9-833c-a04053c763d5",
   "metadata": {},
   "outputs": [],
   "source": [
    "v = vehicle(\"Honda\" , 60 , 30)"
   ]
  },
  {
   "cell_type": "code",
   "execution_count": 3,
   "id": "294d06bf-1cdd-4c10-acd3-46e6ef7b6c89",
   "metadata": {},
   "outputs": [
    {
     "data": {
      "text/plain": [
       "(30, 60, 'Honda')"
      ]
     },
     "execution_count": 3,
     "metadata": {},
     "output_type": "execute_result"
    }
   ],
   "source": [
    "v.return_vehicle()"
   ]
  },
  {
   "cell_type": "markdown",
   "id": "ed5be3aa-86b1-44e9-89fb-428fa8fae4c3",
   "metadata": {},
   "source": [
    "## Q2. Create a child class car from the vehicle class created in Que 1, which will inherit the vehicle class. Create a method named seating_capacity which takes capacity as an argument and returns the name of the vehicle and its seating capacity."
   ]
  },
  {
   "cell_type": "code",
   "execution_count": 17,
   "id": "a22ddf54-1875-47f9-942c-9ce49a22f631",
   "metadata": {},
   "outputs": [],
   "source": [
    "class Car(vehicle):\n",
    "    def __init__(self, name_of_vehicle, max_speed, average_speed):\n",
    "        self.name_of_vehicle = name_of_vehicle\n",
    "        self.max_speed = max_speed\n",
    "        self.average_speed = average_speed\n",
    "\n",
    "    def seating_capacity(self, capacity):\n",
    "        return  self.name_of_vehicle , capacity\n"
   ]
  },
  {
   "cell_type": "code",
   "execution_count": 18,
   "id": "3a10ed20-3106-407b-b36d-eec9d996bf06",
   "metadata": {},
   "outputs": [],
   "source": [
    "car = Car(\"Car\", 200, 60)"
   ]
  },
  {
   "cell_type": "code",
   "execution_count": 19,
   "id": "ec9dd1ec-8c0d-40c2-9f85-a62a6f26106d",
   "metadata": {},
   "outputs": [
    {
     "name": "stdout",
     "output_type": "stream",
     "text": [
      "('Car', 5)\n"
     ]
    }
   ],
   "source": [
    "capacity_info = car.seating_capacity(5)\n",
    "print(capacity_info) "
   ]
  },
  {
   "cell_type": "markdown",
   "id": "767cab09-4266-4200-bea9-0e98ab7d5465",
   "metadata": {},
   "source": [
    "## Q3. What is multiple inheritance? Write a python code to demonstrate multiple inheritance."
   ]
  },
  {
   "cell_type": "code",
   "execution_count": 42,
   "id": "ecca1fcc-7522-4936-aed9-37b8f2f3af21",
   "metadata": {},
   "outputs": [],
   "source": [
    "class polygone:\n",
    "    \n",
    "    def name1(self):\n",
    "        return \"Polygone\""
   ]
  },
  {
   "cell_type": "code",
   "execution_count": 43,
   "id": "b713bb49-fa69-4574-8142-03bdc8832eb7",
   "metadata": {},
   "outputs": [],
   "source": [
    "class triangle(polygone):\n",
    "    \n",
    "    def name2(self):\n",
    "        return \"Triangle\""
   ]
  },
  {
   "cell_type": "code",
   "execution_count": 44,
   "id": "41bb65d8-87d9-43e9-963d-7c27c10d0a0f",
   "metadata": {},
   "outputs": [],
   "source": [
    "class square(triangle):\n",
    "    def name3(self):\n",
    "        return \"square\""
   ]
  },
  {
   "cell_type": "code",
   "execution_count": 45,
   "id": "e9592544-86f4-4de6-b168-a085df139c2f",
   "metadata": {},
   "outputs": [],
   "source": [
    "obj = square()"
   ]
  },
  {
   "cell_type": "code",
   "execution_count": 46,
   "id": "eb13c327-9066-44b9-82ae-c6f8a6aa0cea",
   "metadata": {},
   "outputs": [
    {
     "data": {
      "text/plain": [
       "'square'"
      ]
     },
     "execution_count": 46,
     "metadata": {},
     "output_type": "execute_result"
    }
   ],
   "source": [
    "obj.name3()"
   ]
  },
  {
   "cell_type": "code",
   "execution_count": 47,
   "id": "826b47f3-6d69-4f47-a33c-fda86084125d",
   "metadata": {},
   "outputs": [
    {
     "data": {
      "text/plain": [
       "'Polygone'"
      ]
     },
     "execution_count": 47,
     "metadata": {},
     "output_type": "execute_result"
    }
   ],
   "source": [
    "obj.name1()"
   ]
  },
  {
   "cell_type": "code",
   "execution_count": 48,
   "id": "02aecc17-64c7-4fcb-91cf-a2fc262bb952",
   "metadata": {},
   "outputs": [
    {
     "data": {
      "text/plain": [
       "'Triangle'"
      ]
     },
     "execution_count": 48,
     "metadata": {},
     "output_type": "execute_result"
    }
   ],
   "source": [
    "obj.name2()"
   ]
  },
  {
   "cell_type": "markdown",
   "id": "17dd8ce5-5f72-4dcd-b38b-3b080a1562b8",
   "metadata": {},
   "source": [
    "## Q4. What are getter and setter in python? Create a class and create a getter and a setter method in this class."
   ]
  },
  {
   "cell_type": "code",
   "execution_count": 67,
   "id": "df19dc57-e279-4bcc-9e20-b221617274ff",
   "metadata": {},
   "outputs": [],
   "source": [
    "class phone:\n",
    "    def __init__(self , price , EMI, model):\n",
    "        self.__price = price\n",
    "        self.__EMI = EMI\n",
    "        self.__model = model\n",
    "    def set_EMI(self,EMI):\n",
    "        self.__EMI = 0 if EMI < 0 else EMI\n",
    "    def get_EMI(self):\n",
    "        return self.__EMI"
   ]
  },
  {
   "cell_type": "code",
   "execution_count": 68,
   "id": "d7abc287-8ccd-4561-b8aa-e8d9b2e25324",
   "metadata": {},
   "outputs": [],
   "source": [
    "p = phone(1000,200,\"iphone\")"
   ]
  },
  {
   "cell_type": "code",
   "execution_count": 69,
   "id": "e67763a7-e850-4d9e-b7c6-d3bf4396a301",
   "metadata": {},
   "outputs": [
    {
     "data": {
      "text/plain": [
       "200"
      ]
     },
     "execution_count": 69,
     "metadata": {},
     "output_type": "execute_result"
    }
   ],
   "source": [
    "p.get_EMI()"
   ]
  },
  {
   "cell_type": "code",
   "execution_count": 70,
   "id": "9422a28d-51e7-4fdc-aab2-ae1fd833441b",
   "metadata": {},
   "outputs": [],
   "source": [
    "p.set_EMI(100)"
   ]
  },
  {
   "cell_type": "code",
   "execution_count": 71,
   "id": "88e5aa44-f0da-47f4-b8e6-df0b0f0e822c",
   "metadata": {},
   "outputs": [
    {
     "data": {
      "text/plain": [
       "100"
      ]
     },
     "execution_count": 71,
     "metadata": {},
     "output_type": "execute_result"
    }
   ],
   "source": [
    "p.get_EMI()"
   ]
  },
  {
   "cell_type": "markdown",
   "id": "5b930ab8-f6d9-41da-95d6-2b96152c0f1e",
   "metadata": {},
   "source": [
    "## Q5.What is method overriding in python? Write a python code to demonstrate method overriding."
   ]
  },
  {
   "cell_type": "code",
   "execution_count": null,
   "id": "e98bcff4-2189-42c3-a05d-3ff7d4a80c40",
   "metadata": {},
   "outputs": [],
   "source": [
    "Method overriding is a concept in object-oriented programming where a subclass provides a specific implementation for a method that is already defined in its superclass. When a method in the subclass has the same name, parameters, and return type as a method in the superclass, it overrides the superclass method, and the subclass method is called when the method is invoked on an instance of the subclass. Method overriding allows you to provide specialized behavior for a method in a subclass while maintaining a consistent interface."
   ]
  },
  {
   "cell_type": "code",
   "execution_count": 73,
   "id": "3c28cfed-d1b0-46fa-a143-31cf3d823e7c",
   "metadata": {},
   "outputs": [
    {
     "data": {
      "text/plain": [
       "'Meow!'"
      ]
     },
     "execution_count": 73,
     "metadata": {},
     "output_type": "execute_result"
    }
   ],
   "source": [
    "class Animal:\n",
    "    def speak(self):\n",
    "        pass  # This is a placeholder method\n",
    "\n",
    "class Dog(Animal):\n",
    "    def speak(self):\n",
    "        return \"Woof!\"\n",
    "\n",
    "class Cat(Animal):\n",
    "    def speak(self):\n",
    "        return \"Meow!\""
   ]
  },
  {
   "cell_type": "code",
   "execution_count": 74,
   "id": "a61e15ae-ae7f-4d80-b8f5-9ff83b303b1b",
   "metadata": {},
   "outputs": [],
   "source": [
    "dog = Dog()\n",
    "cat = Cat()"
   ]
  },
  {
   "cell_type": "code",
   "execution_count": 75,
   "id": "4c8e8eb7-3e9e-4324-bf9b-2f6c58d004fb",
   "metadata": {},
   "outputs": [],
   "source": [
    "dog_sound = dog.speak()\n",
    "cat_sound = cat.speak()"
   ]
  },
  {
   "cell_type": "code",
   "execution_count": 76,
   "id": "f38307a3-267c-4a38-a7a6-e1c4f057e1f0",
   "metadata": {},
   "outputs": [
    {
     "data": {
      "text/plain": [
       "'Woof!'"
      ]
     },
     "execution_count": 76,
     "metadata": {},
     "output_type": "execute_result"
    }
   ],
   "source": [
    "dog_sound"
   ]
  },
  {
   "cell_type": "code",
   "execution_count": 77,
   "id": "c141f498-6276-4d1b-87dc-e550d1bafa2b",
   "metadata": {},
   "outputs": [
    {
     "data": {
      "text/plain": [
       "'Meow!'"
      ]
     },
     "execution_count": 77,
     "metadata": {},
     "output_type": "execute_result"
    }
   ],
   "source": [
    "cat_sound"
   ]
  },
  {
   "cell_type": "code",
   "execution_count": null,
   "id": "4e4d4200-6510-4d41-9b27-6caacd520841",
   "metadata": {},
   "outputs": [],
   "source": []
  }
 ],
 "metadata": {
  "kernelspec": {
   "display_name": "Python 3 (ipykernel)",
   "language": "python",
   "name": "python3"
  },
  "language_info": {
   "codemirror_mode": {
    "name": "ipython",
    "version": 3
   },
   "file_extension": ".py",
   "mimetype": "text/x-python",
   "name": "python",
   "nbconvert_exporter": "python",
   "pygments_lexer": "ipython3",
   "version": "3.10.8"
  }
 },
 "nbformat": 4,
 "nbformat_minor": 5
}
